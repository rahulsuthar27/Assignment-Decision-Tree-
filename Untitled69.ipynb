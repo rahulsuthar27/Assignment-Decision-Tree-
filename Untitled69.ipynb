{
  "nbformat": 4,
  "nbformat_minor": 0,
  "metadata": {
    "colab": {
      "provenance": []
    },
    "kernelspec": {
      "name": "python3",
      "display_name": "Python 3"
    },
    "language_info": {
      "name": "python"
    }
  },
  "cells": [
    {
      "cell_type": "markdown",
      "source": [
        "# Assignmnet:Decision Tree\n",
        "# Theoretical"
      ],
      "metadata": {
        "id": "VizPbIswccHJ"
      }
    },
    {
      "cell_type": "markdown",
      "source": [],
      "metadata": {
        "id": "_tLJAokXljij"
      }
    },
    {
      "cell_type": "markdown",
      "source": [
        "#1.What is a Decision Tree, and how does it work\n",
        "ans->A Decision Tree is a supervised machine learning algorithm used for classification and regression tasks. It models decisions and their possible consequences using a tree-like structure.\n",
        "\n",
        "The tree is made up of nodes:\n",
        "\n",
        "Root node: Represents the entire dataset and is split into two or more subsets.\n",
        "\n",
        "Decision nodes: These are internal nodes where data is split based on a condition.\n",
        "\n",
        "Leaf nodes: Represent the final output or prediction.\n",
        "\n",
        "How it works:\n",
        "The algorithm chooses the best feature to split the data based on a criterion like:\n",
        "\n",
        "Gini Index\n",
        "\n",
        "Information Gain\n",
        "\n",
        "Mean Squared Error (for regression)\n",
        "\n",
        "It splits the dataset recursively into subsets.\n",
        "\n",
        "The process stops when a stopping condition is met (e.g., all samples belong to one class, or max depth is reached).\n",
        "\n",
        "The final prediction is made at the leaf node.\n"
      ],
      "metadata": {
        "id": "Frb2XAjvcjMC"
      }
    },
    {
      "cell_type": "markdown",
      "source": [
        "#2.What are impurity measures in Decision Trees\n",
        "ans->Impurity measures in Decision Trees are used to determine how well a feature separates the data. They help in selecting the best feature to split the data at each node. A node is called “pure” if all its data points belong to the same class.\n",
        "\n",
        "Common impurity measures:\n",
        "Gini Impurity\n",
        "\n",
        "Measures the probability of incorrectly classifying a randomly chosen element.\n",
        "\n",
        "Formula:\n",
        "\n",
        "𝐺\n",
        "𝑖\n",
        "𝑛\n",
        "𝑖\n",
        "=\n",
        "1\n",
        "−\n",
        "∑\n",
        "(\n",
        "𝑝\n",
        "𝑖\n",
        ")\n",
        "2\n",
        "Gini=1−∑(p\n",
        "i\n",
        "​\n",
        " )\n",
        "2\n",
        "\n",
        "where\n",
        "𝑝\n",
        "𝑖\n",
        "p\n",
        "i\n",
        "​\n",
        "  is the probability of class i.\n",
        "\n",
        "Entropy (Information Gain)\n",
        "\n",
        "Measures the amount of disorder or uncertainty.\n",
        "\n",
        "Formula:\n",
        "\n",
        "𝐸\n",
        "𝑛\n",
        "𝑡\n",
        "𝑟\n",
        "𝑜\n",
        "𝑝\n",
        "𝑦\n",
        "=\n",
        "−\n",
        "∑\n",
        "𝑝\n",
        "𝑖\n",
        "log\n",
        "⁡\n",
        "2\n",
        "(\n",
        "𝑝\n",
        "𝑖\n",
        ")\n",
        "Entropy=−∑p\n",
        "i\n",
        "​\n",
        " log\n",
        "2\n",
        "​\n",
        " (p\n",
        "i\n",
        "​\n",
        " )\n",
        "Information Gain = Entropy (before split) – Weighted Entropy (after split)\n",
        "\n",
        "Mean Squared Error (MSE) (used in regression trees)\n",
        "\n",
        "Measures how far the predicted values are from the actual values.\n",
        "\n",
        "Purpose:\n",
        "These measures help in deciding where to split the data to create the most accurate and efficient tree."
      ],
      "metadata": {
        "id": "anrnw3_LccKG"
      }
    },
    {
      "cell_type": "markdown",
      "source": [
        "#3.What is the mathematical formula for Gini Impurity\n",
        "ans->The Gini Impurity measures the likelihood of an incorrect classification of a randomly chosen element. It is used to evaluate how pure a node is in a Decision Tree.\n",
        "\n",
        "Mathematical Formula:\n",
        "𝐺\n",
        "𝑖\n",
        "𝑛\n",
        "𝑖\n",
        "=\n",
        "1\n",
        "−\n",
        "∑\n",
        "𝑖\n",
        "=\n",
        "1\n",
        "𝑛\n",
        "(\n",
        "𝑝\n",
        "𝑖\n",
        ")\n",
        "2\n",
        "Gini=1−\n",
        "i=1\n",
        "∑\n",
        "n\n",
        "​\n",
        " (p\n",
        "i\n",
        "​\n",
        " )\n",
        "2\n",
        "\n",
        "Where:\n",
        "\n",
        "𝑝\n",
        "𝑖\n",
        "p\n",
        "i\n",
        "​\n",
        "  = probability (or proportion) of class i at a particular node\n",
        "\n",
        "𝑛\n",
        "n = number of classes\n",
        "\n",
        "Example:\n",
        "If a node contains 3 classes with probabilities 0.5, 0.3, and 0.2:\n",
        "\n",
        "𝐺\n",
        "𝑖\n",
        "𝑛\n",
        "𝑖\n",
        "=\n",
        "1\n",
        "−\n",
        "(\n",
        "0.5\n",
        "2\n",
        "+\n",
        "0.3\n",
        "2\n",
        "+\n",
        "0.2\n",
        "2\n",
        ")\n",
        "=\n",
        "1\n",
        "−\n",
        "(\n",
        "0.25\n",
        "+\n",
        "0.09\n",
        "+\n",
        "0.04\n",
        ")\n",
        "=\n",
        "1\n",
        "−\n",
        "0.38\n",
        "=\n",
        "0.62\n",
        "Gini=1−(0.5\n",
        "2\n",
        " +0.3\n",
        "2\n",
        " +0.2\n",
        "2\n",
        " )=1−(0.25+0.09+0.04)=1−0.38=0.62\n",
        "A lower Gini value means the node is purer."
      ],
      "metadata": {
        "id": "sf3w-knMccMt"
      }
    },
    {
      "cell_type": "markdown",
      "source": [
        "#4.What is the mathematical formula for Entropy\n",
        "ans->Entropy is an impurity measure used in Decision Trees to quantify the amount of uncertainty or disorder in a dataset.\n",
        "\n",
        "Mathematical Formula:\n",
        "𝐸\n",
        "𝑛\n",
        "𝑡\n",
        "𝑟\n",
        "𝑜\n",
        "𝑝\n",
        "𝑦\n",
        "=\n",
        "−\n",
        "∑\n",
        "𝑖\n",
        "=\n",
        "1\n",
        "𝑛\n",
        "𝑝\n",
        "𝑖\n",
        "log\n",
        "⁡\n",
        "2\n",
        "(\n",
        "𝑝\n",
        "𝑖\n",
        ")\n",
        "Entropy=−\n",
        "i=1\n",
        "∑\n",
        "n\n",
        "​\n",
        " p\n",
        "i\n",
        "​\n",
        " log\n",
        "2\n",
        "​\n",
        " (p\n",
        "i\n",
        "​\n",
        " )\n",
        "Where:\n",
        "\n",
        "𝑝\n",
        "𝑖\n",
        "p\n",
        "i\n",
        "​\n",
        "  = probability (or proportion) of class i at a node\n",
        "\n",
        "𝑛\n",
        "n = number of classes\n",
        "\n",
        "Example:\n",
        "If a node has two classes with probabilities 0.6 and 0.4:\n",
        "\n",
        "𝐸\n",
        "𝑛\n",
        "𝑡\n",
        "𝑟\n",
        "𝑜\n",
        "𝑝\n",
        "𝑦\n",
        "=\n",
        "−\n",
        "(\n",
        "0.6\n",
        "log\n",
        "⁡\n",
        "2\n",
        "0.6\n",
        "+\n",
        "0.4\n",
        "log\n",
        "⁡\n",
        "2\n",
        "0.4\n",
        ")\n",
        "=\n",
        "−\n",
        "(\n",
        "0.6\n",
        "×\n",
        "−\n",
        "0.737\n",
        "+\n",
        "0.4\n",
        "×\n",
        "−\n",
        "1.322\n",
        ")\n",
        "=\n",
        "0.442\n",
        "+\n",
        "0.529\n",
        "=\n",
        "0.971\n",
        "Entropy=−(0.6log\n",
        "2\n",
        "​\n",
        " 0.6+0.4log\n",
        "2\n",
        "​\n",
        " 0.4)=−(0.6×−0.737+0.4×−1.322)=0.442+0.529=0.971\n",
        "Entropy ranges from 0 (pure) to log₂(n) (maximum impurity)."
      ],
      "metadata": {
        "id": "GzcHzmOTccPP"
      }
    },
    {
      "cell_type": "markdown",
      "source": [
        "#5 What is Information Gain, and how is it used in Decision Trees\n",
        "ans->Information Gain is a metric used in Decision Trees to decide which feature to split the data on at each node. It measures the reduction in entropy after a dataset is split on an attribute.\n",
        "\n",
        "Formula:\n",
        "Information Gain\n",
        "=\n",
        "Entropy (parent)\n",
        "−\n",
        "∑\n",
        "(\n",
        "𝑛\n",
        "𝑖\n",
        "𝑛\n",
        "×\n",
        "Entropy (child\n",
        "𝑖\n",
        ")\n",
        ")\n",
        "Information Gain=Entropy (parent)−∑(\n",
        "n\n",
        "n\n",
        "i\n",
        "​\n",
        "\n",
        "​\n",
        " ×Entropy (child\n",
        "i\n",
        "​\n",
        " ))\n",
        "Where:\n",
        "\n",
        "𝑛\n",
        "n = total number of samples in the parent node\n",
        "\n",
        "𝑛\n",
        "𝑖\n",
        "n\n",
        "i\n",
        "​\n",
        "  = number of samples in the\n",
        "𝑖\n",
        "𝑡\n",
        "ℎ\n",
        "i\n",
        "th\n",
        "  child node\n",
        "\n",
        "Entropy is calculated for each node.\n",
        "\n",
        "How it is used:\n",
        "At each node, the Decision Tree algorithm calculates the Information Gain for all features.\n",
        "\n",
        "The feature with the highest Information Gain is selected to split the data.\n",
        "\n",
        "This process continues recursively to grow the tree.\n",
        "\n",
        "Purpose:\n",
        "The goal is to maximize Information Gain at each split to make the tree as efficient and accurate as possible.\n",
        "\n"
      ],
      "metadata": {
        "id": "PnE4rF5tccRw"
      }
    },
    {
      "cell_type": "markdown",
      "source": [
        "#6.What is the difference between Gini Impurity and Entropy\n",
        "answ->Gini Impurity and Entropy are both impurity measures used in Decision Trees to decide the best feature for splitting the data. Gini Impurity measures the probability of misclassifying a randomly chosen element. Its formula is:\n",
        "\n",
        "𝐺\n",
        "𝑖\n",
        "𝑛\n",
        "𝑖\n",
        "=\n",
        "1\n",
        "−\n",
        "∑\n",
        "(\n",
        "𝑝\n",
        "𝑖\n",
        ")\n",
        "2\n",
        "Gini=1−∑(p\n",
        "i\n",
        "​\n",
        " )\n",
        "2\n",
        "\n",
        "where\n",
        "𝑝\n",
        "𝑖\n",
        "p\n",
        "i\n",
        "​\n",
        "  is the probability of each class.\n",
        "\n",
        "On the other hand, Entropy measures the amount of uncertainty or randomness in the data. Its formula is:\n",
        "\n",
        "𝐸\n",
        "𝑛\n",
        "𝑡\n",
        "𝑟\n",
        "𝑜\n",
        "𝑝\n",
        "𝑦\n",
        "=\n",
        "−\n",
        "∑\n",
        "𝑝\n",
        "𝑖\n",
        "log\n",
        "⁡\n",
        "2\n",
        "(\n",
        "𝑝\n",
        "𝑖\n",
        ")\n",
        "Entropy=−∑p\n",
        "i\n",
        "​\n",
        " log\n",
        "2\n",
        "​\n",
        " (p\n",
        "i\n",
        "​\n",
        " )\n",
        "Both measures aim to find the best split, but they differ slightly in how they evaluate the purity of a node.\n",
        "\n",
        "Gini Impurity is generally faster to compute because it doesn’t use logarithms, while Entropy provides a more information-theoretic view of data impurity. In practice, both often give similar results, but Gini tends to produce purer nodes, and Entropy is preferred when using information gain (like in the ID3 algorithm). The choice between them depends on the algorithm being used and sometimes on the dataset characteristics."
      ],
      "metadata": {
        "id": "6U1zs6succUR"
      }
    },
    {
      "cell_type": "markdown",
      "source": [
        "#7.What is the mathematical explanation behind Decision Trees\n",
        "answ->A Decision Tree works by recursively splitting a dataset into smaller subsets based on feature values, using a mathematical criterion to determine the best split. At each node, the algorithm evaluates all features and selects the one that gives the highest Information Gain or the lowest Gini Impurity (depending on the method). For classification, the impurity of a node is measured using Gini Index or Entropy, while for regression, it uses Mean Squared Error (MSE).\n",
        "\n",
        "Mathematically, if a dataset\n",
        "𝐷\n",
        "D has\n",
        "𝑛\n",
        "n classes, then the Entropy is calculated as:\n",
        "\n",
        "𝐸\n",
        "𝑛\n",
        "𝑡\n",
        "𝑟\n",
        "𝑜\n",
        "𝑝\n",
        "𝑦\n",
        "(\n",
        "𝐷\n",
        ")\n",
        "=\n",
        "−\n",
        "∑\n",
        "𝑖\n",
        "=\n",
        "1\n",
        "𝑛\n",
        "𝑝\n",
        "𝑖\n",
        "log\n",
        "⁡\n",
        "2\n",
        "(\n",
        "𝑝\n",
        "𝑖\n",
        ")\n",
        "Entropy(D)=−\n",
        "i=1\n",
        "∑\n",
        "n\n",
        "​\n",
        " p\n",
        "i\n",
        "​\n",
        " log\n",
        "2\n",
        "​\n",
        " (p\n",
        "i\n",
        "​\n",
        " )\n",
        "And Information Gain for a feature is:\n",
        "\n",
        "𝐼\n",
        "𝐺\n",
        "(\n",
        "𝐷\n",
        ",\n",
        "𝐴\n",
        ")\n",
        "=\n",
        "𝐸\n",
        "𝑛\n",
        "𝑡\n",
        "𝑟\n",
        "𝑜\n",
        "𝑝\n",
        "𝑦\n",
        "(\n",
        "𝐷\n",
        ")\n",
        "−\n",
        "∑\n",
        "𝑣\n",
        "∈\n",
        "𝑉\n",
        "𝑎\n",
        "𝑙\n",
        "𝑢\n",
        "𝑒\n",
        "𝑠\n",
        "(\n",
        "𝐴\n",
        ")\n",
        "∣\n",
        "𝐷\n",
        "𝑣\n",
        "∣\n",
        "∣\n",
        "𝐷\n",
        "∣\n",
        "⋅\n",
        "𝐸\n",
        "𝑛\n",
        "𝑡\n",
        "𝑟\n",
        "𝑜\n",
        "𝑝\n",
        "𝑦\n",
        "(\n",
        "𝐷\n",
        "𝑣\n",
        ")\n",
        "IG(D,A)=Entropy(D)−\n",
        "v∈Values(A)\n",
        "∑\n",
        "​\n",
        "  \n",
        "∣D∣\n",
        "∣D\n",
        "v\n",
        "​\n",
        " ∣\n",
        "​\n",
        " ⋅Entropy(D\n",
        "v\n",
        "​\n",
        " )\n",
        "where\n",
        "𝐷\n",
        "𝑣\n",
        "D\n",
        "v\n",
        "​\n",
        "  is the subset of\n",
        "𝐷\n",
        "D for which attribute\n",
        "𝐴\n",
        "A has value\n",
        "𝑣\n",
        "v.\n",
        "\n",
        "The process continues until the tree reaches a stopping condition (like max depth or pure nodes). This mathematical process helps in creating an efficient and interpretable model."
      ],
      "metadata": {
        "id": "LwTElMyAccWp"
      }
    },
    {
      "cell_type": "markdown",
      "source": [
        "#8.What is Pre-Pruning in Decision Trees\n",
        "answ->Pre-Pruning, also known as early stopping, is a technique used in Decision Trees to prevent overfitting by stopping the tree from growing too deep during the training process. Instead of allowing the tree to grow fully and then trimming it, pre-pruning stops the splitting of nodes based on certain predefined conditions. These conditions can include reaching a maximum tree depth, having a minimum number of samples required to split a node, or not achieving a significant gain in impurity reduction.\n",
        "\n",
        "By applying these constraints during the construction of the tree, pre-pruning helps in reducing model complexity, improving generalization, and speeding up training time. However, if done too aggressively, it may lead to underfitting."
      ],
      "metadata": {
        "id": "-TFG_uUMccZL"
      }
    },
    {
      "cell_type": "markdown",
      "source": [
        "#9.What is Post-Pruning in Decision Trees\n",
        "answ->Post-Pruning, also known as cost-complexity pruning, is a technique used to reduce the size of a fully grown Decision Tree after it has been trained. In this method, the tree is first allowed to grow completely, possibly overfitting the training data. Then, branches or subtrees that provide little or no improvement in prediction accuracy on a validation set are removed or replaced with leaf nodes.\n",
        "\n",
        "This process improves the model’s generalization ability by reducing overfitting and simplifying the tree structure. Post-pruning typically uses techniques like reduced error pruning or cost-complexity pruning to decide which branches to cut. It is more reliable than pre-pruning because the decision to prune is based on actual performance rather than assumptions during tree construction."
      ],
      "metadata": {
        "id": "5YLR_XAgccbs"
      }
    },
    {
      "cell_type": "markdown",
      "source": [
        "#10.What is the difference between Pre-Pruning and Post-Pruning\n",
        "answ->Pre-Pruning and Post-Pruning are two techniques used to avoid overfitting in Decision Trees by controlling their size and complexity. In Pre-Pruning, the tree building process is stopped early—before it becomes too complex—based on certain conditions like maximum depth, minimum number of samples to split a node, or minimum information gain. This helps save time and prevents overfitting but can sometimes lead to underfitting if stopped too soon.\n",
        "\n",
        "On the other hand, Post-Pruning allows the tree to grow fully and then removes parts of it that do not improve performance on a validation set. It evaluates subtrees and prunes those that add complexity without meaningful gain. Post-pruning is generally more effective because it’s based on actual model performance, but it requires more computational time since the full tree is built first.\n",
        "\n"
      ],
      "metadata": {
        "id": "-jxXIjc6ccfK"
      }
    },
    {
      "cell_type": "markdown",
      "source": [
        "#11.What is a Decision Tree Regressor\n",
        "answ->A Decision Tree Regressor is a type of Decision Tree algorithm used for regression tasks, where the goal is to predict a continuous numeric value instead of a class label. It works by splitting the dataset into smaller and smaller regions based on feature values, just like in classification trees. However, instead of using impurity measures like Gini or Entropy, it uses Mean Squared Error (MSE), Mean Absolute Error (MAE), or other regression loss functions to find the best splits.\n",
        "\n",
        "At each leaf node, the model predicts the average of the target values in that region. The tree keeps splitting until a stopping condition is met, such as a maximum depth or a minimum number of samples. Decision Tree Regressors are easy to interpret and useful for capturing non-linear relationships, but they can overfit if not properly pruned or regularized."
      ],
      "metadata": {
        "id": "csmItXDYccij"
      }
    },
    {
      "cell_type": "markdown",
      "source": [
        "#12.What are the advantages and disadvantages of Decision Trees\n",
        "answ->Decision Trees have several advantages. They are easy to understand and interpret, as their structure resembles human decision-making. They handle both numerical and categorical data, require little data preprocessing, and can model non-linear relationships. Decision Trees also perform well even if some data is missing, and they can be used for both classification and regression tasks.\n",
        "\n",
        "However, they also have some disadvantages. Decision Trees are prone to overfitting, especially when they are deep and complex. Small changes in the data can lead to completely different tree structures, making them unstable. They can also be biased toward features with more levels and may not always produce the most accurate results compared to other models like Random Forests or Gradient Boosting unless properly tuned or pruned.\n",
        "\n"
      ],
      "metadata": {
        "id": "GaKT5H04cds5"
      }
    },
    {
      "cell_type": "markdown",
      "source": [
        "#13.How does a Decision Tree handle missing values\n",
        "answ->Decision Trees can handle missing values in a few intelligent ways. One common method is by ignoring the missing value during the split and only using the samples with known values for that particular feature. Another approach is to assign missing values to the most frequent category (for categorical data) or the mean/median value (for numerical data) before building the tree. Some advanced Decision Tree algorithms, like those in CART or C4.5, handle missing values by using surrogate splits—they find an alternative feature that closely mimics the primary splitting feature to decide where to send the sample. This allows the tree to still make a decision even when some data is missing, improving its flexibility and robustness.\n",
        "\n"
      ],
      "metadata": {
        "id": "jWRjgACzcdwH"
      }
    },
    {
      "cell_type": "markdown",
      "source": [
        "#14.How does a Decision Tree handle categorical features\n",
        "answ->Decision Trees can handle categorical features naturally by splitting nodes based on the distinct categories of the feature. When a categorical feature is selected for a split, the algorithm creates branches for each category (e.g., “Red,” “Blue,” “Green”) or groups of categories, depending on which split gives the best information gain or impurity reduction. For features with many categories, some algorithms may try to group similar categories together to avoid overfitting. Unlike many other machine learning models, Decision Trees do not require one-hot encoding or other transformations for categorical variables, making them simple and effective for such data.**bold text**"
      ],
      "metadata": {
        "id": "9tk3d-SXcd1Y"
      }
    },
    {
      "cell_type": "markdown",
      "source": [
        "#15.What are some real-world applications of Decision Trees?\n",
        "answ->Decision Trees are widely used in various real-world applications due to their simplicity and interpretability. In banking and finance, they are used for credit scoring, fraud detection, and loan approval decisions. In healthcare, they assist in diagnosing diseases by analyzing symptoms and medical history. In marketing, businesses use decision trees for customer segmentation, targeted advertising, and predicting customer churn. In the retail industry, they help in recommending products and forecasting sales. Additionally, in manufacturing and quality control, decision trees can identify defective products or optimize production processes. Their ability to handle both numerical and categorical data makes them suitable for a wide range of practical problems."
      ],
      "metadata": {
        "id": "-yHO7YEscd6r"
      }
    },
    {
      "cell_type": "markdown",
      "source": [
        "# Practical"
      ],
      "metadata": {
        "id": "eR9C4X4xley6"
      }
    },
    {
      "cell_type": "code",
      "source": [
        "#16.Write a Python program to train a Decision Tree Classifier on the Iris dataset and print the model accuracy\n",
        "from sklearn.datasets import load_iris\n",
        "from sklearn.model_selection import train_test_split\n",
        "from sklearn.tree import DecisionTreeClassifier\n",
        "from sklearn.metrics import accuracy_score\n",
        "iris = load_iris()\n",
        "X = iris.data\n",
        "y = iris.target\n",
        "X_train, X_test, y_train, y_test = train_test_split(X, y, test_size=0.2, random_state=42)\n",
        "\n",
        "clf = DecisionTreeClassifier(random_state=42)\n",
        "clf.fit(X_train, y_train)\n",
        "\n",
        "y_pred = clf.predict(X_test)\n",
        "\n",
        "accuracy = accuracy_score(y_test, y_pred)\n",
        "print(f\"Model Accuracy: {accuracy * 100:.2f}%\")\n"
      ],
      "metadata": {
        "colab": {
          "base_uri": "https://localhost:8080/"
        },
        "id": "duTtJ-M2fyZw",
        "outputId": "fc88ba54-40c0-4a75-dde3-4f1ed38dff84"
      },
      "execution_count": 1,
      "outputs": [
        {
          "output_type": "stream",
          "name": "stdout",
          "text": [
            "Model Accuracy: 100.00%\n"
          ]
        }
      ]
    },
    {
      "cell_type": "code",
      "source": [
        "#17.Write a Python program to train a Decision Tree Classifier using Gini Impurity as the criterion and print the feature importances\n",
        "iris = load_iris()\n",
        "X = iris.data\n",
        "y = iris.target\n",
        "X_train, X_test, y_train, y_test = train_test_split(X, y, test_size=0.2, random_state=42)\n",
        "clf = DecisionTreeClassifier(criterion='gini', random_state=42)\n",
        "clf.fit(X_train, y_train)\n",
        "\n",
        "print(\"Feature Importances:\", clf.feature_importances_)\n"
      ],
      "metadata": {
        "colab": {
          "base_uri": "https://localhost:8080/"
        },
        "id": "9h6QMTQ_fycf",
        "outputId": "1eee3178-97dc-4ea8-9ddc-187461dcaf66"
      },
      "execution_count": 2,
      "outputs": [
        {
          "output_type": "stream",
          "name": "stdout",
          "text": [
            "Feature Importances: [0.         0.01667014 0.90614339 0.07718647]\n"
          ]
        }
      ]
    },
    {
      "cell_type": "code",
      "source": [
        "#18.Write a Python program to train a Decision Tree Classifier using Entropy as the splitting criterion and print the model accuracy\n",
        "iris = load_iris()\n",
        "X = iris.data\n",
        "y = iris.target\n",
        "X_train, X_test, y_train, y_test = train_test_split(X, y, test_size=0.2, random_state=42)\n",
        "clf = DecisionTreeClassifier(criterion='entropy', random_state=42)\n",
        "clf.fit(X_train, y_train)\n",
        "\n",
        "y_pred = clf.predict(X_test)\n",
        "accuracy = accuracy_score(y_test, y_pred)\n",
        "print(f\"Model Accuracy: {accuracy * 100:.2f}%\")\n"
      ],
      "metadata": {
        "colab": {
          "base_uri": "https://localhost:8080/"
        },
        "id": "kZlJM7c7fyfU",
        "outputId": "7814965e-3772-4a62-9231-f42f4fbeb7d0"
      },
      "execution_count": 3,
      "outputs": [
        {
          "output_type": "stream",
          "name": "stdout",
          "text": [
            "Model Accuracy: 100.00%\n"
          ]
        }
      ]
    },
    {
      "cell_type": "code",
      "source": [
        "#19.Write a Python program to train a Decision Tree Regressor on a housing dataset and evaluate using Mean Squared Error (MSE)\n",
        "from sklearn.datasets import fetch_california_housing\n",
        "from sklearn.model_selection import train_test_split\n",
        "from sklearn.tree import DecisionTreeRegressor\n",
        "from sklearn.metrics import mean_squared_error\n",
        "housing = fetch_california_housing()\n",
        "X = housing.data\n",
        "y = housing.target\n",
        "X_train, X_test, y_train, y_test = train_test_split(X, y, test_size=0.2, random_state=42)\n",
        "regressor = DecisionTreeRegressor(random_state=42)\n",
        "regressor.fit(X_train, y_train)\n",
        "\n",
        "y_pred = regressor.predict(X_test)\n",
        "mse = mean_squared_error(y_test, y_pred)\n",
        "print(f\"Mean Squared Error: {mse:.2f}\")\n",
        "\n"
      ],
      "metadata": {
        "colab": {
          "base_uri": "https://localhost:8080/"
        },
        "id": "DcjzzwYOfyiE",
        "outputId": "6ae10a21-ddae-4ef2-c462-b08ce9b70534"
      },
      "execution_count": 8,
      "outputs": [
        {
          "output_type": "stream",
          "name": "stdout",
          "text": [
            "Mean Squared Error: 0.50\n"
          ]
        }
      ]
    },
    {
      "cell_type": "code",
      "source": [
        "#20.Write a Python program to train a Decision Tree Classifier and visualize the tree using graphviz*\n",
        "from sklearn.datasets import load_iris\n",
        "from sklearn.tree import DecisionTreeClassifier, export_graphviz\n",
        "import graphviz\n",
        "\n",
        "iris = load_iris()\n",
        "X = iris.data\n",
        "y = iris.target\n",
        "\n",
        "clf = DecisionTreeClassifier(random_state=42)\n",
        "clf.fit(X, y)\n",
        "\n",
        "dot_data = export_graphviz(clf, out_file=None, feature_names=iris.feature_names,\n",
        "                           class_names=iris.target_names, filled=True, rounded=True,\n",
        "                           special_characters=True)\n",
        "\n",
        "graph = graphviz.Source(dot_data)\n",
        "graph.render(\"iris_tree\", format=\"png\", cleanup=False)\n",
        "graph.view(\"iris_tree\")\n",
        "\n",
        "\n"
      ],
      "metadata": {
        "colab": {
          "base_uri": "https://localhost:8080/",
          "height": 35
        },
        "id": "MHp7b7Iifykk",
        "outputId": "5bad9655-6f77-4423-899a-c4f0e383fe39"
      },
      "execution_count": 10,
      "outputs": [
        {
          "output_type": "execute_result",
          "data": {
            "text/plain": [
              "'iris_tree.pdf'"
            ],
            "application/vnd.google.colaboratory.intrinsic+json": {
              "type": "string"
            }
          },
          "metadata": {},
          "execution_count": 10
        }
      ]
    },
    {
      "cell_type": "code",
      "source": [
        "#21.Write a Python program to train a Decision Tree Classifier with a maximum depth of 3 and compare its accuracy with a fully grown tree\n",
        "iris = load_iris()\n",
        "X = iris.data\n",
        "y = iris.target\n",
        "\n",
        "X_train, X_test, y_train, y_test = train_test_split(X, y, test_size=0.2, random_state=42)\n",
        "\n",
        "clf_limited = DecisionTreeClassifier(max_depth=3, random_state=42)\n",
        "clf_limited.fit(X_train, y_train)\n",
        "y_pred_limited = clf_limited.predict(X_test)\n",
        "acc_limited = accuracy_score(y_test, y_pred_limited)\n",
        "\n",
        "clf_full = DecisionTreeClassifier(random_state=42)\n",
        "clf_full.fit(X_train, y_train)\n",
        "y_pred_full = clf_full.predict(X_test)\n",
        "acc_full = accuracy_score(y_test, y_pred_full)\n",
        "\n",
        "print(f\"Accuracy with max_depth=3: {acc_limited * 100:.2f}%\")\n",
        "print(f\"Accuracy with full tree   : {acc_full * 100:.2f}%\")\n"
      ],
      "metadata": {
        "colab": {
          "base_uri": "https://localhost:8080/"
        },
        "id": "PnrxGK_hfynn",
        "outputId": "2bc3767c-1856-4e1c-d317-fee5a2ce59e8"
      },
      "execution_count": 11,
      "outputs": [
        {
          "output_type": "stream",
          "name": "stdout",
          "text": [
            "Accuracy with max_depth=3: 100.00%\n",
            "Accuracy with full tree   : 100.00%\n"
          ]
        }
      ]
    },
    {
      "cell_type": "code",
      "source": [
        "#22.Write a Python program to train a Decision Tree Classifier using min_samples_split=5 and compare its accuracy with a default tree.\n",
        "iris = load_iris()\n",
        "X = iris.data\n",
        "y = iris.target\n",
        "\n",
        "X_train, X_test, y_train, y_test = train_test_split(X, y, test_size=0.2, random_state=42)\n",
        "\n",
        "clf_split5 = DecisionTreeClassifier(min_samples_split=5, random_state=42)\n",
        "clf_split5.fit(X_train, y_train)\n",
        "y_pred_split5 = clf_split5.predict(X_test)\n",
        "acc_split5 = accuracy_score(y_test, y_pred_split5)\n",
        "\n",
        "clf_default = DecisionTreeClassifier(random_state=42)\n",
        "clf_default.fit(X_train, y_train)\n",
        "y_pred_default = clf_default.predict(X_test)\n",
        "acc_default = accuracy_score(y_test, y_pred_default)\n",
        "\n",
        "print(f\"Accuracy with min_samples_split=5: {acc_split5 * 100:.2f}%\")\n",
        "print(f\"Accuracy with default parameters  : {acc_default * 100:.2f}%\")\n"
      ],
      "metadata": {
        "colab": {
          "base_uri": "https://localhost:8080/"
        },
        "id": "CvtrjtMJfyqJ",
        "outputId": "c51ed4c9-1dc8-4cb8-d163-6bf6053de3fd"
      },
      "execution_count": 12,
      "outputs": [
        {
          "output_type": "stream",
          "name": "stdout",
          "text": [
            "Accuracy with min_samples_split=5: 100.00%\n",
            "Accuracy with default parameters  : 100.00%\n"
          ]
        }
      ]
    },
    {
      "cell_type": "code",
      "source": [
        "#23.Write a Python program to apply feature scaling before training a Decision Tree Classifier and compare its accuracy with unscaled data\n",
        "from sklearn.preprocessing import StandardScaler\n",
        "iris = load_iris()\n",
        "X = iris.data\n",
        "y = iris.target\n",
        "\n",
        "X_train_raw, X_test_raw, y_train, y_test = train_test_split(X, y, test_size=0.2, random_state=42)\n",
        "\n",
        "scaler = StandardScaler()\n",
        "X_train_scaled = scaler.fit_transform(X_train_raw)\n",
        "X_test_scaled = scaler.transform(X_test_raw)\n",
        "\n",
        "clf_scaled = DecisionTreeClassifier(random_state=42)\n",
        "clf_scaled.fit(X_train_scaled, y_train)\n",
        "y_pred_scaled = clf_scaled.predict(X_test_scaled)\n",
        "acc_scaled = accuracy_score(y_test, y_pred_scaled)\n",
        "\n",
        "clf_unscaled = DecisionTreeClassifier(random_state=42)\n",
        "clf_unscaled.fit(X_train_raw, y_train)\n",
        "y_pred_unscaled = clf_unscaled.predict(X_test_raw)\n",
        "acc_unscaled = accuracy_score(y_test, y_pred_unscaled)\n",
        "\n",
        "print(f\"Accuracy with scaled data   : {acc_scaled * 100:.2f}%\")\n",
        "print(f\"Accuracy with unscaled data : {acc_unscaled * 100:.2f}%\")\n"
      ],
      "metadata": {
        "colab": {
          "base_uri": "https://localhost:8080/"
        },
        "id": "PdinWEJDfys2",
        "outputId": "756bdaf1-c4a5-47b7-89e6-a8df6f278b79"
      },
      "execution_count": 14,
      "outputs": [
        {
          "output_type": "stream",
          "name": "stdout",
          "text": [
            "Accuracy with scaled data   : 100.00%\n",
            "Accuracy with unscaled data : 100.00%\n"
          ]
        }
      ]
    },
    {
      "cell_type": "code",
      "source": [
        "#24.Write a Python program to train a Decision Tree Classifier using One-vs-Rest (OvR) strategy for multiclass classification\n",
        "from sklearn.multiclass import OneVsRestClassifier\n",
        "iris = load_iris()\n",
        "X = iris.data\n",
        "y = iris.target\n",
        "\n",
        "X_train, X_test, y_train, y_test = train_test_split(X, y, test_size=0.2, random_state=42)\n",
        "\n",
        "ovr_clf = OneVsRestClassifier(DecisionTreeClassifier(random_state=42))\n",
        "ovr_clf.fit(X_train, y_train)\n",
        "\n",
        "y_pred = ovr_clf.predict(X_test)\n",
        "accuracy = accuracy_score(y_test, y_pred)\n",
        "print(f\"OvR Decision Tree Accuracy: {accuracy * 100:.2f}%\")\n"
      ],
      "metadata": {
        "colab": {
          "base_uri": "https://localhost:8080/"
        },
        "id": "9feQCFjAfyve",
        "outputId": "b9355340-c129-48ee-cf22-2c48772c787c"
      },
      "execution_count": 16,
      "outputs": [
        {
          "output_type": "stream",
          "name": "stdout",
          "text": [
            "OvR Decision Tree Accuracy: 100.00%\n"
          ]
        }
      ]
    },
    {
      "cell_type": "code",
      "source": [
        "#25.Write a Python program to train a Decision Tree Classifier and display the feature importance scores*\n",
        "iris = load_iris()\n",
        "X = iris.data\n",
        "y = iris.target\n",
        "\n",
        "clf = DecisionTreeClassifier(random_state=42)\n",
        "clf.fit(X, y)\n",
        "\n",
        "print(\"Feature Importances:\")\n",
        "for name, score in zip(iris.feature_names, clf.feature_importances_):\n",
        "    print(f\"{name}: {score:.4f}\")\n"
      ],
      "metadata": {
        "colab": {
          "base_uri": "https://localhost:8080/"
        },
        "id": "vngePuRNfyyU",
        "outputId": "244c1795-a387-420b-859b-cfd51b684e0d"
      },
      "execution_count": 17,
      "outputs": [
        {
          "output_type": "stream",
          "name": "stdout",
          "text": [
            "Feature Importances:\n",
            "sepal length (cm): 0.0133\n",
            "sepal width (cm): 0.0000\n",
            "petal length (cm): 0.5641\n",
            "petal width (cm): 0.4226\n"
          ]
        }
      ]
    },
    {
      "cell_type": "code",
      "source": [
        "#26.Write a Python program to train a Decision Tree Regressor with max_depth=5 and compare its performance with an unrestricted tree\n",
        "housing = fetch_california_housing()\n",
        "X = housing.data\n",
        "y = housing.target\n",
        "\n",
        "X_train, X_test, y_train, y_test = train_test_split(X, y, test_size=0.2, random_state=42)\n",
        "\n",
        "reg_limited = DecisionTreeRegressor(max_depth=5, random_state=42)\n",
        "reg_limited.fit(X_train, y_train)\n",
        "y_pred_limited = reg_limited.predict(X_test)\n",
        "mse_limited = mean_squared_error(y_test, y_pred_limited)\n",
        "\n",
        "reg_full = DecisionTreeRegressor(random_state=42)\n",
        "reg_full.fit(X_train, y_train)\n",
        "y_pred_full = reg_full.predict(X_test)\n",
        "mse_full = mean_squared_error(y_test, y_pred_full)\n",
        "\n",
        "print(f\"MSE with max_depth=5     : {mse_limited:.2f}\")\n",
        "print(f\"MSE with full tree       : {mse_full:.2f}\")\n"
      ],
      "metadata": {
        "colab": {
          "base_uri": "https://localhost:8080/"
        },
        "id": "qRxpg0Rkfy01",
        "outputId": "9af19f0b-0123-48c1-f4e5-42292541f671"
      },
      "execution_count": 18,
      "outputs": [
        {
          "output_type": "stream",
          "name": "stdout",
          "text": [
            "MSE with max_depth=5     : 0.52\n",
            "MSE with full tree       : 0.50\n"
          ]
        }
      ]
    },
    {
      "cell_type": "code",
      "source": [
        "#27.Write a Python program to train a Decision Tree Classifier, apply Cost Complexity Pruning (CCP), and visualize its effect on accuracy\n",
        "import matplotlib.pyplot as plt\n",
        "iris = load_iris()\n",
        "X = iris.data\n",
        "y = iris.target\n",
        "\n",
        "X_train, X_test, y_train, y_test = train_test_split(X, y, test_size=0.2, random_state=42)\n",
        "\n",
        "clf = DecisionTreeClassifier(random_state=42)\n",
        "path = clf.cost_complexity_pruning_path(X_train, y_train)\n",
        "ccp_alphas = path.ccp_alphas\n",
        "\n",
        "clfs = []\n",
        "for ccp_alpha in ccp_alphas:\n",
        "    model = DecisionTreeClassifier(random_state=42, ccp_alpha=ccp_alpha)\n",
        "    model.fit(X_train, y_train)\n",
        "    clfs.append(model)\n",
        "\n",
        "acc_scores = [accuracy_score(y_test, clf.predict(X_test)) for clf in clfs]\n",
        "\n",
        "plt.figure(figsize=(8, 5))\n",
        "plt.plot(ccp_alphas, acc_scores, marker='o')\n",
        "plt.xlabel(\"ccp_alpha\")\n",
        "plt.ylabel(\"Accuracy\")\n",
        "plt.title(\"Effect of Cost Complexity Pruning on Accuracy\")\n",
        "plt.grid(True)\n",
        "plt.tight_layout()\n",
        "plt.show()\n"
      ],
      "metadata": {
        "colab": {
          "base_uri": "https://localhost:8080/",
          "height": 507
        },
        "id": "zUgsKkP8fy3K",
        "outputId": "d47e7cda-05ad-4a3a-f86c-8b0fb5284348"
      },
      "execution_count": 20,
      "outputs": [
        {
          "output_type": "display_data",
          "data": {
            "text/plain": [
              "<Figure size 800x500 with 1 Axes>"
            ],
            "image/png": "[encoded data removed]"
          },
          "metadata": {}
        }
      ]
    },
    {
      "cell_type": "code",
      "source": [
        "#18.Write a Python program to train a Decision Tree Classifier and evaluate its performance using Precision, Recall, and F1-Score\n",
        "from sklearn.metrics import precision_score, recall_score, f1_score\n",
        "iris = load_iris()\n",
        "X = iris.data\n",
        "y = iris.target\n",
        "\n",
        "X_train, X_test, y_train, y_test = train_test_split(X, y, test_size=0.2, random_state=42)\n",
        "\n",
        "clf = DecisionTreeClassifier(random_state=42)\n",
        "clf.fit(X_train, y_train)\n",
        "\n",
        "y_pred = clf.predict(X_test)\n",
        "\n",
        "precision = precision_score(y_test, y_pred, average='macro')\n",
        "recall = recall_score(y_test, y_pred, average='macro')\n",
        "f1 = f1_score(y_test, y_pred, average='macro')\n",
        "\n",
        "print(f\"Precision: {precision:.2f}\")\n",
        "print(f\"Recall   : {recall:.2f}\")\n",
        "print(f\"F1-Score : {f1:.2f}\")\n"
      ],
      "metadata": {
        "colab": {
          "base_uri": "https://localhost:8080/"
        },
        "id": "uDNqRQigfy6w",
        "outputId": "ccd0408a-51fc-45c9-a9c1-42391f5614a7"
      },
      "execution_count": 22,
      "outputs": [
        {
          "output_type": "stream",
          "name": "stdout",
          "text": [
            "Precision: 1.00\n",
            "Recall   : 1.00\n",
            "F1-Score : 1.00\n"
          ]
        }
      ]
    },
    {
      "cell_type": "code",
      "source": [
        "#29.Write a Python program to train a Decision Tree Classifier and visualize the confusion matrix using seaborn\n",
        "import seaborn as sns\n",
        "from sklearn.metrics import confusion_matrix\n",
        "iris = load_iris()\n",
        "X = iris.data\n",
        "y = iris.target\n",
        "\n",
        "X_train, X_test, y_train, y_test = train_test_split(X, y, test_size=0.2, random_state=42)\n",
        "\n",
        "clf = DecisionTreeClassifier(random_state=42)\n",
        "clf.fit(X_train, y_train)\n",
        "\n",
        "y_pred = clf.predict(X_test)\n",
        "\n",
        "cm = confusion_matrix(y_test, y_pred)\n",
        "\n",
        "plt.figure(figsize=(6, 4))\n",
        "sns.heatmap(cm, annot=True, fmt='d', cmap='Blues', xticklabels=iris.target_names, yticklabels=iris.target_names)\n",
        "plt.xlabel(\"Predicted\")\n",
        "plt.ylabel(\"Actual\")\n",
        "plt.title(\"Confusion Matrix\")\n",
        "plt.tight_layout()\n",
        "plt.show()\n"
      ],
      "metadata": {
        "colab": {
          "base_uri": "https://localhost:8080/",
          "height": 407
        },
        "id": "bMxZ4q6ef1Gn",
        "outputId": "67d87657-534f-4171-db63-3da280914b32"
      },
      "execution_count": 25,
      "outputs": [
        {
          "output_type": "display_data",
          "data": {
            "text/plain": [
              "<Figure size 600x400 with 2 Axes>"
            ],
            "image/png": "[encoded data removed]"
          },
          "metadata": {}
        }
      ]
    },
    {
      "cell_type": "code",
      "source": [
        "#30.Write a Python program to train a Decision Tree Classifier and use GridSearchCV to find the optimal values for max_depth and min_samples_split\n",
        "from sklearn.model_selection import GridSearchCV\n",
        "iris = load_iris()\n",
        "X = iris.data\n",
        "y = iris.target\n",
        "\n",
        "param_grid = {\n",
        "    'max_depth': [2, 3, 4, 5, None],\n",
        "    'min_samples_split': [2, 5, 10]\n",
        "}\n",
        "\n",
        "grid = GridSearchCV(DecisionTreeClassifier(random_state=42), param_grid, cv=5)\n",
        "grid.fit(X, y)\n",
        "\n",
        "print(\"Best Parameters:\", grid.best_params_)\n",
        "print(\"Best Score     :\", grid.best_score_)\n"
      ],
      "metadata": {
        "colab": {
          "base_uri": "https://localhost:8080/"
        },
        "id": "5IdTV9MXf1KF",
        "outputId": "92130245-94c1-46e6-e1f2-b47301649124"
      },
      "execution_count": 27,
      "outputs": [
        {
          "output_type": "stream",
          "name": "stdout",
          "text": [
            "Best Parameters: {'max_depth': 3, 'min_samples_split': 2}\n",
            "Best Score     : 0.9733333333333334\n"
          ]
        }
      ]
    }
  ]
}